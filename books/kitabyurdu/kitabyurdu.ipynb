{
 "cells": [
  {
   "cell_type": "code",
   "execution_count": 9,
   "id": "283fffbc",
   "metadata": {},
   "outputs": [],
   "source": [
    "from bs4 import BeautifulSoup\n",
    "import requests\n",
    "from datetime import datetime\n",
    "from selenium import webdriver\n",
    "from selenium.webdriver.chrome.service import Service\n",
    "from selenium.webdriver.common.by import By\n",
    "from selenium.webdriver.chrome.options import Options\n",
    "\n",
    "import time\n",
    "import json\n",
    "from tqdm import tqdm\n",
    "from selenium import webdriver\n",
    "from selenium import webdriver\n",
    "from selenium.webdriver.support.select import Select\n",
    "from selenium.webdriver.support.select import Select\n",
    "import pandas as pd "
   ]
  },
  {
   "cell_type": "code",
   "execution_count": 2,
   "id": "2835706d",
   "metadata": {},
   "outputs": [],
   "source": [
    "book_urls = pd.read_csv('kitabyurdu_all_books.csv', index_col = None)"
   ]
  },
  {
   "cell_type": "code",
   "execution_count": 28,
   "id": "a6924036",
   "metadata": {},
   "outputs": [
    {
     "data": {
      "text/plain": [
       "0       https://www.kitabyurdu.org/yukle/1902181693/\n",
       "1       https://www.kitabyurdu.org/yukle/2048009530/\n",
       "2       https://www.kitabyurdu.org/yukle/1659678850/\n",
       "3        https://www.kitabyurdu.org/yukle/736440390/\n",
       "4       https://www.kitabyurdu.org/yukle/3151497122/\n",
       "                            ...                     \n",
       "1082     https://www.kitabyurdu.org/yukle/140116777/\n",
       "1083     https://www.kitabyurdu.org/yukle/609798245/\n",
       "1084    https://www.kitabyurdu.org/yukle/1959374088/\n",
       "1085     https://www.kitabyurdu.org/yukle/681677515/\n",
       "1086    https://www.kitabyurdu.org/yukle/2054572543/\n",
       "Name: Link, Length: 1087, dtype: object"
      ]
     },
     "execution_count": 28,
     "metadata": {},
     "output_type": "execute_result"
    }
   ],
   "source": []
  },
  {
   "cell_type": "code",
   "execution_count": 6,
   "id": "546069ad",
   "metadata": {},
   "outputs": [
    {
     "data": {
      "text/plain": [
       "'C:\\\\Users\\\\Kanan\\\\Downloads\\\\Kitabyurdu'"
      ]
     },
     "execution_count": 6,
     "metadata": {},
     "output_type": "execute_result"
    }
   ],
   "source": [
    "pwd"
   ]
  },
  {
   "cell_type": "code",
   "execution_count": null,
   "id": "9acdeb59",
   "metadata": {},
   "outputs": [
    {
     "name": "stderr",
     "output_type": "stream",
     "text": [
      "C:\\Users\\Kanan\\AppData\\Local\\Temp\\ipykernel_3576\\4094921958.py:16: DeprecationWarning: executable_path has been deprecated, please pass in a Service object\n",
      "  driver = webdriver.Chrome(r\"./driver/chromedriver\", options=options)\n"
     ]
    }
   ],
   "source": [
    "from selenium import webdriver\n",
    "import time\n",
    "\n",
    "\n",
    "\n",
    "# Configure the ChromeOptions object to set the download directory\n",
    "options = Options()\n",
    "options.add_argument(\"start-maximized\")\n",
    "options.add_experimental_option(\"excludeSwitches\", [\"enable-automation\"])\n",
    "options.add_experimental_option('useAutomationExtension', False)\n",
    "options.add_experimental_option(\"prefs\", {\n",
    "  \"download.default_directory\": r\"C:\\KitabYurdu\"\n",
    "  })\n",
    "\n",
    "# Launch the Chrome browser with the configured options\n",
    "driver = webdriver.Chrome(r\"./driver/chromedriver\", options=options)\n",
    "\n",
    "for book_url in book_urls['Link']:\n",
    "    driver.get(book_url)\n",
    "    driver.maximize_window()\n",
    "    time.sleep(3)\n",
    "\n",
    "    button = driver.find_element('link text', 'YÜKLƏ')\n",
    "    button.click()\n"
   ]
  },
  {
   "cell_type": "code",
   "execution_count": null,
   "id": "0f31d103",
   "metadata": {},
   "outputs": [],
   "source": []
  }
 ],
 "metadata": {
  "kernelspec": {
   "display_name": "Python 3 (ipykernel)",
   "language": "python",
   "name": "python3"
  },
  "language_info": {
   "codemirror_mode": {
    "name": "ipython",
    "version": 3
   },
   "file_extension": ".py",
   "mimetype": "text/x-python",
   "name": "python",
   "nbconvert_exporter": "python",
   "pygments_lexer": "ipython3",
   "version": "3.8.8"
  }
 },
 "nbformat": 4,
 "nbformat_minor": 5
}
