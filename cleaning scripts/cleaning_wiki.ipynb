{
  "nbformat": 4,
  "nbformat_minor": 0,
  "metadata": {
    "colab": {
      "provenance": []
    },
    "kernelspec": {
      "name": "python3",
      "display_name": "Python 3"
    },
    "language_info": {
      "name": "python"
    }
  },
  "cells": [
    {
      "cell_type": "code",
      "source": [
        "import os\n",
        "import re"
      ],
      "metadata": {
        "id": "ZiJwrVfknX8s"
      },
      "execution_count": 15,
      "outputs": []
    },
    {
      "cell_type": "code",
      "execution_count": 16,
      "metadata": {
        "id": "rS17qDdJp_nc"
      },
      "outputs": [],
      "source": [
        "def clean_wiki(text):\n",
        "    text = re.sub(r'\\n','', text) # Remove newline characters\n",
        "    text = re.sub(r'\\t', '', text) # Remove tab characters\n",
        "    text = re.sub(r'\\([^)]*\\)', '', text) # Remove between ()\n",
        "    text = re.sub(r'==\\s*İstinadlar\\s*==[\\s\\S]*', '', text) # Remove everything after headline\n",
        "    text = re.sub(r'==\\s*Həmçinin bax\\s*==[\\s\\S]*', '', text)\n",
        "    text = re.sub(r'==\\s*Qalereya\\s*==[\\s\\S]*', '', text)\n",
        "    text = re.sub(r'==\\s*Mənbə\\s*==[\\s\\S]*', '', text)\n",
        "    text = re.sub(r'==\\s*Tanınmış işləri\\s*==[\\s\\S]*', '', text)\n",
        "    text = re.sub(r'==.*?==', '', text) # Remove everthing between ==\n",
        "    text = re.sub(r'\\/[^\\/]*\\/', '', text) # Remove between //\n",
        "    text = re.sub(r'Fayl:[^.]*\\.', '', text) # Remove descriptive words\n",
        "    text = re.sub(r'Şəkil:[^.]*\\.', '', text)\n",
        "    text = re.sub(r'Misallar[^.]*\\.', '', text)\n",
        "    text = re.sub(r'[^a-zA-Z0-9\\sƏəŞşÇçĞğÖöIıÜüİi,.?!:;\\-]+', '', text) # Remove everything except alnum\n",
        "    text = re.sub(r'<.*?>', '', text) # Remove between <>\n",
        "    text = re.sub(r'https?:\\/\\/\\S+', '', text) # Remove all the links\n",
        "    text = re.sub(r' +', ' ', text) # Remove multiple space with single\n",
        "\n",
        "\n",
        "\n",
        "    return text\n"
      ]
    },
    {
      "cell_type": "code",
      "source": [
        "pattern = r\"''\\w+''\\s+''\\w+''\" \n",
        "# set the path to the folder containing the text files\n",
        "folder_path = \"/content/sample_data/articles\"\n",
        "\n",
        "# iterate through all the text files in the folder\n",
        "for file_name in os.listdir(folder_path):\n",
        "    # check if the file is a text file\n",
        "    if file_name.endswith(\".txt\"):\n",
        "        # read the contents of the file\n",
        "        with open(os.path.join(folder_path, file_name), \"r\") as f:\n",
        "            text = f.read()\n",
        "        \n",
        "        # check if the file matches the regex pattern\n",
        "        if not (re.search(pattern, text) or \"**\" in text):\n",
        "            # if the file does not match the pattern, clean the text\n",
        "            cleaned_text = clean_wiki(text)\n",
        "            \n",
        "            # write the cleaned text back to the file\n",
        "            with open(os.path.join(folder_path, file_name), \"w\") as f:\n",
        "                if \".\" in cleaned_text:\n",
        "                  f.write(cleaned_text)\n"
      ],
      "metadata": {
        "id": "gS1m0nSvqsY-"
      },
      "execution_count": 17,
      "outputs": []
    }
  ]
}