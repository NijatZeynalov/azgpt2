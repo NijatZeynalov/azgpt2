{
 "cells": [
  {
   "cell_type": "code",
   "execution_count": 6,
   "id": "9a495fef",
   "metadata": {},
   "outputs": [],
   "source": [
    "import os \n",
    "from tqdm import tqdm \n",
    "import uuid"
   ]
  },
  {
   "cell_type": "code",
   "execution_count": 7,
   "id": "eaaf1b7c",
   "metadata": {},
   "outputs": [],
   "source": [
    "source_full = ['Aznews_Kulis/Kulisaz','az_wiki/AzWikipedia','Aznews_axaraz/axar_az_txts','Aznews_lentaz/Lentaz']"
   ]
  },
  {
   "cell_type": "code",
   "execution_count": 8,
   "id": "9c7baee9",
   "metadata": {},
   "outputs": [],
   "source": [
    "source_main = ['Aznews_Kulis','az_wiki','Aznews_axaraz','Aznews_lentaz']"
   ]
  },
  {
   "cell_type": "code",
   "execution_count": 17,
   "id": "7c0b59e0",
   "metadata": {
    "scrolled": true
   },
   "outputs": [
    {
     "data": {
      "text/plain": [
       "'/home/g202103810/Desktop/AZGPT_Corpus_Copy'"
      ]
     },
     "execution_count": 17,
     "metadata": {},
     "output_type": "execute_result"
    }
   ],
   "source": [
    "os.getcwd()"
   ]
  },
  {
   "cell_type": "code",
   "execution_count": 18,
   "id": "ca4bcc76",
   "metadata": {},
   "outputs": [
    {
     "name": "stdout",
     "output_type": "stream",
     "text": [
      "/bin/bash: /home/g202103810/miniconda3/envs/Ken_tf/lib/libtinfo.so.6: no version information available (required by /bin/bash)\r\n",
      " \u001b[0m\u001b[01;34mAZGPT_Corpus\u001b[0m/               \u001b[01;31mAZGPT_Corpus_cleaned.zip\u001b[0m   main.ipynb\r\n",
      " \u001b[01;34mAZGPT_CorpusAznews_Kulis\u001b[0m/  'corpus_manage .ipynb'      Untitled.ipynb\r\n"
     ]
    }
   ],
   "source": [
    "ls"
   ]
  },
  {
   "cell_type": "code",
   "execution_count": 19,
   "id": "3018537a",
   "metadata": {},
   "outputs": [],
   "source": [
    "def create_id(source_full,source_main):\n",
    "\n",
    "    folder_path = '/home/g202103810/Desktop/AZGPT_Corpus_Copy/AZGPT_Corpus/'+source_full\n",
    "    main_path = '/home/g202103810/Desktop/AZGPT_Corpus_Copy/AZGPT_Corpus/'+source_main\n",
    "    new_folder_name = 'renamed_files' # replace with your desired folder name\n",
    "    new_folder_path = os.path.join(main_path, new_folder_name) # construct the full path to the new folder\n",
    "    os.makedirs(new_folder_path, exist_ok=True) # create the new folder if it doesn't already exist\n",
    "    for filename in tqdm(os.listdir(folder_path)):\n",
    "        if filename.endswith('.txt'):\n",
    "            # generate a new UUIDv4 value for the filename\n",
    "            new_filename = str(uuid.uuid4()) + '.txt'\n",
    "            # construct the full path to the file\n",
    "            old_file_path = os.path.join(folder_path, filename)\n",
    "            new_file_path = os.path.join(new_folder_path, new_filename)\n",
    "            # rename the file and move it to the new folder\n",
    "            os.rename(old_file_path, new_file_path)\n",
    "\n",
    "\n",
    "            "
   ]
  },
  {
   "cell_type": "code",
   "execution_count": 20,
   "id": "97fc3448",
   "metadata": {
    "scrolled": false
   },
   "outputs": [
    {
     "name": "stderr",
     "output_type": "stream",
     "text": [
      "100%|████████████████████████████████████████████████████████████████████████████████████████████████████████████████████████████████████████████████████████████████████████████████████████████████████████████████████████████████████| 30814/30814 [00:00<00:00, 50612.54it/s]\n",
      "100%|████████████████████████████████████████████████████████████████████████████████████████████████████████████████████████████████████████████████████████████████████████████████████████████████████████████████████████████████████| 98882/98882 [00:01<00:00, 64926.60it/s]\n",
      "100%|██████████████████████████████████████████████████████████████████████████████████████████████████████████████████████████████████████████████████████████████████████████████████████████████████████████████████████████████████| 143448/143448 [00:02<00:00, 48888.08it/s]\n",
      "100%|████████████████████████████████████████████████████████████████████████████████████████████████████████████████████████████████████████████████████████████████████████████████████████████████████████████████████████████████████| 62625/62625 [00:01<00:00, 49718.60it/s]\n"
     ]
    }
   ],
   "source": [
    "for i in range(len(source_full)):\n",
    "\n",
    "    create_id(source_full[i],source_main[i])"
   ]
  },
  {
   "cell_type": "code",
   "execution_count": null,
   "id": "56fb1b29",
   "metadata": {},
   "outputs": [],
   "source": [
    "\n"
   ]
  },
  {
   "cell_type": "code",
   "execution_count": null,
   "id": "f94fd0e7",
   "metadata": {},
   "outputs": [],
   "source": []
  },
  {
   "cell_type": "code",
   "execution_count": null,
   "id": "e691d776",
   "metadata": {},
   "outputs": [],
   "source": []
  },
  {
   "cell_type": "code",
   "execution_count": null,
   "id": "3f705dd3",
   "metadata": {},
   "outputs": [],
   "source": []
  }
 ],
 "metadata": {
  "kernelspec": {
   "display_name": "Python 3 (ipykernel)",
   "language": "python",
   "name": "python3"
  },
  "language_info": {
   "codemirror_mode": {
    "name": "ipython",
    "version": 3
   },
   "file_extension": ".py",
   "mimetype": "text/x-python",
   "name": "python",
   "nbconvert_exporter": "python",
   "pygments_lexer": "ipython3",
   "version": "3.10.6"
  }
 },
 "nbformat": 4,
 "nbformat_minor": 5
}
