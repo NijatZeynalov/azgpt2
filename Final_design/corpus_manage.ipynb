{
 "cells": [
  {
   "cell_type": "code",
   "execution_count": 31,
   "id": "bdd94240",
   "metadata": {},
   "outputs": [],
   "source": [
    "import os \n",
    "from tqdm import tqdm \n",
    "import uuid"
   ]
  },
  {
   "cell_type": "code",
   "execution_count": 35,
   "id": "14524591",
   "metadata": {},
   "outputs": [],
   "source": [
    "source_full = ['Aznews_Kulis/Kulisaz','az_wiki/AzWikipedia','Aznews_axaraz/axar_az_txts','Aznews_lentaz/Lentaz']"
   ]
  },
  {
   "cell_type": "code",
   "execution_count": 36,
   "id": "0a175a20",
   "metadata": {},
   "outputs": [],
   "source": [
    "source_main = ['Aznews_Kulis','az_wiki','Aznews_axaraz','Aznews_lentaz']"
   ]
  },
  {
   "cell_type": "code",
   "execution_count": 32,
   "id": "7b88a5bc",
   "metadata": {},
   "outputs": [],
   "source": [
    "def create_id(source_full,source_main):\n",
    "\n",
    "    folder_path = '/home/g202103810/Desktop/AZGPT_Corpus/'+source_full\n",
    "    main_path = '/home/g202103810/Desktop/AZGPT_Corpus/'+source_main\n",
    "    new_folder_name = 'renamed_files' # replace with your desired folder name\n",
    "    new_folder_path = os.path.join(main_path, new_folder_name) # construct the full path to the new folder\n",
    "    os.makedirs(new_folder_path, exist_ok=True) # create the new folder if it doesn't already exist\n",
    "    for filename in tqdm(os.listdir(folder_path)):\n",
    "        if filename.endswith('.txt'):\n",
    "            # generate a new UUIDv4 value for the filename\n",
    "            new_filename = str(uuid.uuid4()) + '.txt'\n",
    "            # construct the full path to the file\n",
    "            old_file_path = os.path.join(folder_path, filename)\n",
    "            new_file_path = os.path.join(new_folder_path, new_filename)\n",
    "            # rename the file and move it to the new folder\n",
    "            os.rename(old_file_path, new_file_path)\n",
    "\n"
   ]
  },
  {
   "cell_type": "code",
   "execution_count": 33,
   "id": "f55a6927",
   "metadata": {},
   "outputs": [
    {
     "name": "stderr",
     "output_type": "stream",
     "text": [
      "100%|██████████████████████████████████| 30814/30814 [00:00<00:00, 50134.11it/s]\n",
      "100%|██████████████████████████████████| 98882/98882 [00:01<00:00, 51849.74it/s]\n",
      "100%|████████████████████████████████| 143448/143448 [00:02<00:00, 52063.96it/s]\n"
     ]
    },
    {
     "ename": "FileNotFoundError",
     "evalue": "[Errno 2] No such file or directory: '/home/g202103810/Desktop/AZGPT_Corpus/Aznews_lentaz/Aznews_lentaz'",
     "output_type": "error",
     "traceback": [
      "\u001b[0;31m---------------------------------------------------------------------------\u001b[0m",
      "\u001b[0;31mFileNotFoundError\u001b[0m                         Traceback (most recent call last)",
      "\u001b[0;32m/tmp/ipykernel_158962/455555729.py\u001b[0m in \u001b[0;36m<module>\u001b[0;34m\u001b[0m\n\u001b[1;32m      1\u001b[0m \u001b[0;32mfor\u001b[0m \u001b[0mi\u001b[0m \u001b[0;32min\u001b[0m \u001b[0mrange\u001b[0m\u001b[0;34m(\u001b[0m\u001b[0mlen\u001b[0m\u001b[0;34m(\u001b[0m\u001b[0msource\u001b[0m\u001b[0;34m)\u001b[0m\u001b[0;34m)\u001b[0m\u001b[0;34m:\u001b[0m\u001b[0;34m\u001b[0m\u001b[0;34m\u001b[0m\u001b[0m\n\u001b[1;32m      2\u001b[0m \u001b[0;34m\u001b[0m\u001b[0m\n\u001b[0;32m----> 3\u001b[0;31m     \u001b[0mcreate_id\u001b[0m\u001b[0;34m(\u001b[0m\u001b[0msource_full\u001b[0m\u001b[0;34m[\u001b[0m\u001b[0mi\u001b[0m\u001b[0;34m]\u001b[0m\u001b[0;34m,\u001b[0m\u001b[0msource_main\u001b[0m\u001b[0;34m[\u001b[0m\u001b[0mi\u001b[0m\u001b[0;34m]\u001b[0m\u001b[0;34m)\u001b[0m\u001b[0;34m\u001b[0m\u001b[0;34m\u001b[0m\u001b[0m\n\u001b[0m",
      "\u001b[0;32m/tmp/ipykernel_158962/168969230.py\u001b[0m in \u001b[0;36mcreate_id\u001b[0;34m(source_full, source_main)\u001b[0m\n\u001b[1;32m      6\u001b[0m     \u001b[0mnew_folder_path\u001b[0m \u001b[0;34m=\u001b[0m \u001b[0mos\u001b[0m\u001b[0;34m.\u001b[0m\u001b[0mpath\u001b[0m\u001b[0;34m.\u001b[0m\u001b[0mjoin\u001b[0m\u001b[0;34m(\u001b[0m\u001b[0mmain_path\u001b[0m\u001b[0;34m,\u001b[0m \u001b[0mnew_folder_name\u001b[0m\u001b[0;34m)\u001b[0m \u001b[0;31m# construct the full path to the new folder\u001b[0m\u001b[0;34m\u001b[0m\u001b[0;34m\u001b[0m\u001b[0m\n\u001b[1;32m      7\u001b[0m     \u001b[0mos\u001b[0m\u001b[0;34m.\u001b[0m\u001b[0mmakedirs\u001b[0m\u001b[0;34m(\u001b[0m\u001b[0mnew_folder_path\u001b[0m\u001b[0;34m,\u001b[0m \u001b[0mexist_ok\u001b[0m\u001b[0;34m=\u001b[0m\u001b[0;32mTrue\u001b[0m\u001b[0;34m)\u001b[0m \u001b[0;31m# create the new folder if it doesn't already exist\u001b[0m\u001b[0;34m\u001b[0m\u001b[0;34m\u001b[0m\u001b[0m\n\u001b[0;32m----> 8\u001b[0;31m     \u001b[0;32mfor\u001b[0m \u001b[0mfilename\u001b[0m \u001b[0;32min\u001b[0m \u001b[0mtqdm\u001b[0m\u001b[0;34m(\u001b[0m\u001b[0mos\u001b[0m\u001b[0;34m.\u001b[0m\u001b[0mlistdir\u001b[0m\u001b[0;34m(\u001b[0m\u001b[0mfolder_path\u001b[0m\u001b[0;34m)\u001b[0m\u001b[0;34m)\u001b[0m\u001b[0;34m:\u001b[0m\u001b[0;34m\u001b[0m\u001b[0;34m\u001b[0m\u001b[0m\n\u001b[0m\u001b[1;32m      9\u001b[0m         \u001b[0;32mif\u001b[0m \u001b[0mfilename\u001b[0m\u001b[0;34m.\u001b[0m\u001b[0mendswith\u001b[0m\u001b[0;34m(\u001b[0m\u001b[0;34m'.txt'\u001b[0m\u001b[0;34m)\u001b[0m\u001b[0;34m:\u001b[0m\u001b[0;34m\u001b[0m\u001b[0;34m\u001b[0m\u001b[0m\n\u001b[1;32m     10\u001b[0m             \u001b[0;31m# generate a new UUIDv4 value for the filename\u001b[0m\u001b[0;34m\u001b[0m\u001b[0;34m\u001b[0m\u001b[0m\n",
      "\u001b[0;31mFileNotFoundError\u001b[0m: [Errno 2] No such file or directory: '/home/g202103810/Desktop/AZGPT_Corpus/Aznews_lentaz/Aznews_lentaz'"
     ]
    }
   ],
   "source": [
    "for i in range(len(source)):\n",
    "\n",
    "    create_id(source_full[i],source_main[i])"
   ]
  },
  {
   "cell_type": "code",
   "execution_count": 37,
   "id": "c29b5ee8",
   "metadata": {},
   "outputs": [
    {
     "name": "stderr",
     "output_type": "stream",
     "text": [
      "100%|██████████████████████████████████| 62625/62625 [00:01<00:00, 50187.79it/s]\n"
     ]
    }
   ],
   "source": [
    "create_id(source_full[-1],source_main[-1])"
   ]
  },
  {
   "cell_type": "code",
   "execution_count": null,
   "id": "dcd04d53",
   "metadata": {},
   "outputs": [],
   "source": [
    "\n"
   ]
  },
  {
   "cell_type": "code",
   "execution_count": 13,
   "id": "56ffbc71",
   "metadata": {
    "scrolled": true
   },
   "outputs": [
    {
     "data": {
      "text/plain": [
       "'/home/g202103810/Desktop/AZGPT_Corpus/Aznews_Kulis/Kulisaz'"
      ]
     },
     "execution_count": 13,
     "metadata": {},
     "output_type": "execute_result"
    }
   ],
   "source": [
    "'/home/g202103810/Desktop/AZGPT_Corpus/'+source[0]"
   ]
  },
  {
   "cell_type": "code",
   "execution_count": null,
   "id": "b99fe1a2",
   "metadata": {},
   "outputs": [],
   "source": []
  },
  {
   "cell_type": "code",
   "execution_count": 16,
   "id": "1ab04997",
   "metadata": {},
   "outputs": [],
   "source": [
    "folder_path = '/home/g202103810/Desktop/AZGPT_Corpus/' # replace with the path to your folder\n",
    "new_folder_name = 'renamed_files' # replace with your desired folder name\n",
    "new_folder_path = os.path.join(folder_path, new_folder_name) # construct the full path to the new folder"
   ]
  },
  {
   "cell_type": "code",
   "execution_count": 17,
   "id": "9d0d60bb",
   "metadata": {},
   "outputs": [
    {
     "data": {
      "text/plain": [
       "'/home/g202103810/Desktop/AZGPT_Corpus/renamed_files'"
      ]
     },
     "execution_count": 17,
     "metadata": {},
     "output_type": "execute_result"
    }
   ],
   "source": [
    "new_folder_path"
   ]
  },
  {
   "cell_type": "code",
   "execution_count": 15,
   "id": "95fb63d9",
   "metadata": {},
   "outputs": [
    {
     "name": "stdout",
     "output_type": "stream",
     "text": [
      "/home/g202103810/Desktop/AZGPT_Corpus/Aznews_Kulis/Kulisaz\n",
      "/home/g202103810/Desktop/AZGPT_Corpus/az_wiki/AzWikipedia\n",
      "/home/g202103810/Desktop/AZGPT_Corpus/Aznews_axaraz/axar_az_txts\n",
      "/home/g202103810/Desktop/AZGPT_Corpus/Aznews_lentaz/Aznews_lentaz\n"
     ]
    }
   ],
   "source": []
  },
  {
   "cell_type": "code",
   "execution_count": null,
   "id": "322bb6e7",
   "metadata": {},
   "outputs": [],
   "source": []
  }
 ],
 "metadata": {
  "kernelspec": {
   "display_name": "Python 3 (ipykernel)",
   "language": "python",
   "name": "python3"
  },
  "language_info": {
   "codemirror_mode": {
    "name": "ipython",
    "version": 3
   },
   "file_extension": ".py",
   "mimetype": "text/x-python",
   "name": "python",
   "nbconvert_exporter": "python",
   "pygments_lexer": "ipython3",
   "version": "3.10.6"
  }
 },
 "nbformat": 4,
 "nbformat_minor": 5
}
