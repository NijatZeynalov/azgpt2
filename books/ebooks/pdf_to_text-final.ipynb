{
 "cells": [
  {
   "cell_type": "code",
   "execution_count": 17,
   "metadata": {
    "id": "yl9yGK7hjlZN"
   },
   "outputs": [],
   "source": [
    "import pdfplumber\n",
    "from pdfminer.pdfpage import PDFPage\n",
    "from polyglot.detect import Detector\n",
    "import os \n",
    "from polyglot.detect.base import logger as polyglot_logger\n",
    "polyglot_logger.setLevel(\"ERROR\")\n",
    "from tqdm import tqdm as tqdm \n",
    "from pdfminer.pdfdocument import PDFSyntaxError"
   ]
  },
  {
   "cell_type": "code",
   "execution_count": 10,
   "metadata": {
    "id": "gFu37tddf52O"
   },
   "outputs": [],
   "source": [
    "def scan_check(filename): \n",
    "    with open(filename, 'rb') as infile:\n",
    "      for page in PDFPage.get_pages(infile):\n",
    "            if 'Font' in page.resources.keys():\n",
    "                is_scanned = False\n",
    "            else:\n",
    "                is_scanned = True\n",
    "    return is_scanned"
   ]
  },
  {
   "cell_type": "code",
   "execution_count": 1,
   "metadata": {},
   "outputs": [],
   "source": [
    "def pdf_to_txt(filename):\n",
    "  if not scan_check(filename):\n",
    "    with open(f\"{os.path.splitext(filename)[0]}.txt\", 'w') as txt_file: # Modified \n",
    "        pdf = pdfplumber.open(filename)\n",
    "        for i in range(0, len(pdf.pages)):\n",
    "          text = pdf.pages[i].extract_text()\n",
    "          try:\n",
    "              detector = Detector(text)\n",
    "              if detector.language.name == 'Azerbaijani':\n",
    "                    txt_file.write(text)\n",
    "          except:\n",
    "              pass       \n",
    "\n",
    "       "
   ]
  },
  {
   "cell_type": "code",
   "execution_count": 23,
   "metadata": {},
   "outputs": [],
   "source": [
    "\n",
    "# loop through all the PDF files in the folder\n",
    "\n",
    "def process_pdf(file_path):\n",
    "    try:\n",
    "        # pass the file to the processing function\n",
    "        pdf_to_txt(file_path)\n",
    "    except PDFSyntaxError:\n",
    "        # handle the \"No /Root object\" error\n",
    "        print(f\"{file_path}: No /Root object! - Is this really a PDF?\")\n",
    "    except TypeError:\n",
    "        print(f\"{file_path}: Cannot convert 'PSKeyword' object to bytearray\")\n",
    "\n",
    "pdf_folder = ''\n",
    "count = 0\n",
    "\n",
    "# iterate through all the files in the folder\n",
    "for filename in tqdm(os.listdir(pdf_folder)):\n",
    "    if filename.endswith('.pdf'):\n",
    "        # construct the full file path\n",
    "        file_path = os.path.join(pdf_folder, filename)\n",
    "        # process the file\n",
    "        process_pdf(file_path)\n",
    "        count += 1\n",
    "\n",
    "print(f\"{count} PDFs were processed\")"
   ]
  },
  {
   "cell_type": "code",
   "execution_count": 36,
   "metadata": {},
   "outputs": [],
   "source": []
  }
 ],
 "metadata": {
  "colab": {
   "provenance": []
  },
  "kernelspec": {
   "display_name": "Python 3 (ipykernel)",
   "language": "python",
   "name": "python3"
  },
  "language_info": {
   "codemirror_mode": {
    "name": "ipython",
    "version": 3
   },
   "file_extension": ".py",
   "mimetype": "text/x-python",
   "name": "python",
   "nbconvert_exporter": "python",
   "pygments_lexer": "ipython3",
   "version": "3.10.6"
  }
 },
 "nbformat": 4,
 "nbformat_minor": 1
}
